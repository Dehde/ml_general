{
 "cells": [
  {
   "cell_type": "code",
   "execution_count": 1,
   "metadata": {
    "ExecuteTime": {
     "end_time": "2020-01-29T08:41:50.227810Z",
     "start_time": "2020-01-29T08:41:50.089606Z"
    }
   },
   "outputs": [
    {
     "name": "stdout",
     "output_type": "stream",
     "text": [
      "config:\n",
      "    C:\\Users\\dehde\\.jupyter\n",
      "    C:\\Users\\dehde\\AppData\\Local\\Continuum\\anaconda3\\envs\\pytorch\\etc\\jupyter\n",
      "    C:\\ProgramData\\jupyter\n",
      "data:\n",
      "    C:\\Users\\dehde\\AppData\\Roaming\\jupyter\n",
      "    C:\\Users\\dehde\\AppData\\Local\\Continuum\\anaconda3\\envs\\pytorch\\share\\jupyter\n",
      "    C:\\ProgramData\\jupyter\n",
      "runtime:\n",
      "    C:\\Users\\dehde\\AppData\\Roaming\\jupyter\\runtime\n"
     ]
    }
   ],
   "source": [
    "!jupyter --paths"
   ]
  },
  {
   "cell_type": "markdown",
   "metadata": {},
   "source": [
    "from above: Take the path where the jupyter config lies, i.e:  \n",
    "C:\\Users\\dehde\\.jupyter  \n",
    "the jupyter config should then lie at:  \n",
    "C:\\Users\\dehde\\.jupyter\\jupyter_notebook_config.py"
   ]
  },
  {
   "cell_type": "code",
   "execution_count": 2,
   "metadata": {
    "ExecuteTime": {
     "end_time": "2020-01-29T08:45:51.571925Z",
     "start_time": "2020-01-29T08:45:51.565924Z"
    }
   },
   "outputs": [
    {
     "name": "stdout",
     "output_type": "stream",
     "text": [
      "Writing C:\\Users\\dehde\\.jupyter\\jupyter_notebook_config.py\n"
     ]
    }
   ],
   "source": [
    "%%writefile C:\\Users\\dehde\\.jupyter\\jupyter_notebook_config.py\n",
    "\n",
    "import io\n",
    "import os\n",
    "from notebook.utils import to_api_path\n",
    "\n",
    "_script_exporter = None\n",
    "_html_exporter = None\n",
    "\n",
    "def script_post_save(model, os_path, contents_manager, **kwargs):\n",
    "    \"\"\"convert notebooks to Python script after save with nbconvert\n",
    "    replaces `ipython notebook --script`\n",
    "    \"\"\"\n",
    "    from nbconvert.exporters.script import ScriptExporter\n",
    "    from nbconvert.exporters.html import HTMLExporter\n",
    "\n",
    "    if model['type'] != 'notebook':\n",
    "        return\n",
    "\n",
    "    global _script_exporter\n",
    "    if _script_exporter is None:\n",
    "        _script_exporter = ScriptExporter(parent=contents_manager)\n",
    "    log = contents_manager.log\n",
    "\n",
    "    global _html_exporter\n",
    "    if _html_exporter is None:\n",
    "        _html_exporter = HTMLExporter(parent=contents_manager)\n",
    "    log = contents_manager.log\n",
    "\n",
    "    # save .py file\n",
    "    base, ext = os.path.splitext(os_path)\n",
    "    script, resources = _script_exporter.from_filename(os_path)\n",
    "    script_fname = base + resources.get('output_extension', '.txt')\n",
    "    log.info(\"Saving script /%s\", to_api_path(script_fname, contents_manager.root_dir))\n",
    "    with io.open(script_fname, 'w', encoding='utf-8') as f:\n",
    "        f.write(script)\n",
    "### below: If wanted, also save as html ###\n",
    "#     save html\n",
    "#     base, ext = os.path.splitext(os_path)\n",
    "#     script, resources = _html_exporter.from_filename(os_path)\n",
    "#     script_fname = base + resources.get('output_extension', '.txt')\n",
    "#     log.info(\"Saving html /%s\", to_api_path(script_fname, contents_manager.root_dir))\n",
    "#     with io.open(script_fname, 'w', encoding='utf-8') as f:\n",
    "#         f.write(script)\n",
    "c.FileContentsManager.post_save_hook = script_post_save"
   ]
  },
  {
   "cell_type": "markdown",
   "metadata": {},
   "source": [
    "Now restart your container and you should be done!\n",
    "i.e. \n",
    "docker stop container-name\n",
    "docker start -a container-name"
   ]
  },
  {
   "cell_type": "code",
   "execution_count": null,
   "metadata": {},
   "outputs": [],
   "source": []
  }
 ],
 "metadata": {
  "kernelspec": {
   "display_name": "Python 3",
   "language": "python",
   "name": "python3"
  },
  "language_info": {
   "codemirror_mode": {
    "name": "ipython",
    "version": 3
   },
   "file_extension": ".py",
   "mimetype": "text/x-python",
   "name": "python",
   "nbconvert_exporter": "python",
   "pygments_lexer": "ipython3",
   "version": "3.7.5"
  },
  "toc": {
   "base_numbering": 1,
   "nav_menu": {},
   "number_sections": true,
   "sideBar": true,
   "skip_h1_title": false,
   "title_cell": "Table of Contents",
   "title_sidebar": "Contents",
   "toc_cell": false,
   "toc_position": {},
   "toc_section_display": true,
   "toc_window_display": false
  }
 },
 "nbformat": 4,
 "nbformat_minor": 2
}
